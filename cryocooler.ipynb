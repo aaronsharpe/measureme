{
 "cells": [
  {
   "cell_type": "code",
   "execution_count": null,
   "metadata": {},
   "outputs": [],
   "source": [
    "import qcodes as qc"
   ]
  },
  {
   "cell_type": "code",
   "execution_count": null,
   "metadata": {},
   "outputs": [],
   "source": [
    "from qcodes.instrument_drivers.agilent.Agilent_34400A import Agilent_34400A\n",
    "from qcodes.instrument_drivers.stanford_research.SR830 import SR830\n",
    "from qcodes.instrument_drivers.tektronix.Keithley_2400 import Keithley_2400\n",
    "from qcodes.instrument_drivers.yokogawa.GS200 import GS200\n",
    "from Lakeshore_331 import Lakeshore_331 # Replace once QCoDeS/Qcodes#1156 goes in."
   ]
  },
  {
   "cell_type": "code",
   "execution_count": null,
   "metadata": {},
   "outputs": [],
   "source": [
    "agilent = Agilent_34400A('agi', 'GPIB1::11::INSTR')\n",
    "lockin = SR830('srs', 'GPIB1::10::INSTR')\n",
    "keithley = Keithley_2400('k1', 'GPIB1::29::INSTR')\n",
    "keithley.output.set(1)\n",
    "gs200 = GS200('yoko', 'GPIB1::30::INSTR')\n",
    "lakeshore = Lakeshore_331('lakeshore', 'GPIB1::12::INSTR')"
   ]
  },
  {
   "cell_type": "code",
   "execution_count": null,
   "metadata": {},
   "outputs": [],
   "source": [
    "station = qc.Station(agilent, lockin, keithley, gs200, lakeshore)"
   ]
  },
  {
   "cell_type": "code",
   "execution_count": null,
   "metadata": {},
   "outputs": [],
   "source": []
  }
 ],
 "metadata": {
  "kernelspec": {
   "display_name": "Python 3",
   "language": "python",
   "name": "python3"
  },
  "language_info": {
   "codemirror_mode": {
    "name": "ipython",
    "version": 3
   },
   "file_extension": ".py",
   "mimetype": "text/x-python",
   "name": "python",
   "nbconvert_exporter": "python",
   "pygments_lexer": "ipython3",
   "version": "3.7.0"
  }
 },
 "nbformat": 4,
 "nbformat_minor": 2
}
