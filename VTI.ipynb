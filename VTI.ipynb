{
 "cells": [
  {
   "cell_type": "code",
   "execution_count": null,
   "metadata": {},
   "outputs": [],
   "source": [
    "import numpy as np\n",
    "import qcodes as qc\n",
    "from qcodes.instrument_drivers.stanford_research.SR830 import SR830\n",
    "from qcodes.instrument_drivers.tektronix.Keithley_2400 import Keithley_2400\n",
    "from qcodes.instrument_drivers.oxford.IPS120 import OxfordInstruments_IPS120\n",
    "from qcodes.instrument_drivers.agilent.Agilent_34400A import Agilent_34400A"
   ]
  },
  {
   "cell_type": "code",
   "execution_count": null,
   "metadata": {},
   "outputs": [],
   "source": [
    "k_0 = Keithley_2400('k_0', 'GPIB0::2::INSTR')\n",
    "k_0.mode.set('VOLT')\n",
    "k_0.volt.set(0)\n",
    "k_0.rangev.set(21)\n",
    "k_0.rangei.set(1e-6)\n",
    "k_0.compliancev.set(21)\n",
    "k_0.compliancei.set(1e-6)\n",
    "k_0.output.set(1)\n",
    "\n",
    "k_0.volt.step = 0.005\n",
    "\n",
    "k_1 = Keithley_2400('k_1', 'GPIB0::3::INSTR')\n",
    "k_1.mode.set('VOLT')\n",
    "k_1.volt.set(0)\n",
    "k_1.rangev.set(21)\n",
    "k_1.rangei.set(1e-6)\n",
    "k_1.compliancev.set(21)\n",
    "k_1.compliancei.set(1e-6)\n",
    "k_1.output.set(1)\n",
    "\n",
    "k_1.volt.step = 0.005\n",
    "\n",
    "print(f'Keithley volt: {k_0.volt()}, {k_1.volt()}')\n",
    "print(f'Keithley curr: {k_0.curr()}, {k_1.curr()}')"
   ]
  },
  {
   "cell_type": "code",
   "execution_count": null,
   "metadata": {},
   "outputs": [],
   "source": [
    "sr830_0 = SR830('sr830_0', 'GPIB0::11::INSTR')\n",
    "sr830_1 = SR830('sr830_1', 'GPIB0::12::INSTR')\n",
    "sr830_2 = SR830('sr830_2', 'GPIB0::13::INSTR')\n",
    "\n",
    "print(f'SR830 X: {sr830_0.X()}, {sr830_1.X()}, {sr830_2.X()}')\n",
    "print(f'SR830 Y: {sr830_0.Y()}, {sr830_1.Y()}, {sr830_2.Y()}')"
   ]
  },
  {
   "cell_type": "code",
   "execution_count": null,
   "metadata": {},
   "outputs": [],
   "source": [
    "agi_0 = Agilent_34400A('agi_0', 'GPIB0::15::INSTR')\n",
    "agi_1 = Agilent_34400A('agi_1', 'GPIB0::16::INSTR')\n",
    "agi_2 = Agilent_34400A('agi_2', 'GPIB0::17::INSTR')\n",
    "\n",
    "print(f'Agilent volt: {agi_0.volt()}, {agi_1.volt()}, {agi_2.volt()}')"
   ]
  },
  {
   "cell_type": "code",
   "execution_count": null,
   "metadata": {},
   "outputs": [],
   "source": [
    "ips120 = OxfordInstruments_IPS120('ips120', 'GPIB1::27::INSTR', use_gpib=True)"
   ]
  },
  {
   "cell_type": "code",
   "execution_count": null,
   "metadata": {},
   "outputs": [],
   "source": [
    "qc.config['core']['db_location'] = 'D:\\\\Dropbox (DGG Lab)\\\\spxtr\\\\experiments.db'\n",
    "qc.initialise_database()"
   ]
  },
  {
   "cell_type": "code",
   "execution_count": null,
   "metadata": {},
   "outputs": [],
   "source": [
    "# FILL THIS IN\n",
    "qc.new_experiment(name='experiment', sample_name='sample')"
   ]
  }
 ],
 "metadata": {
  "kernelspec": {
   "display_name": "Python 3",
   "language": "python",
   "name": "python3"
  },
  "language_info": {
   "codemirror_mode": {
    "name": "ipython",
    "version": 3
   },
   "file_extension": ".py",
   "mimetype": "text/x-python",
   "name": "python",
   "nbconvert_exporter": "python",
   "pygments_lexer": "ipython3",
   "version": "3.7.2"
  }
 },
 "nbformat": 4,
 "nbformat_minor": 2
}
