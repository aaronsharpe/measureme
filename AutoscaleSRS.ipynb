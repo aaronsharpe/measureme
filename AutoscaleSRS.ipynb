{
 "cells": [
  {
   "cell_type": "code",
   "execution_count": null,
   "metadata": {},
   "outputs": [],
   "source": [
    "from qcodes import Instrument\n",
    "\n",
    "\n",
    "class ScaleSRS(Instrument):\n",
    "    \"\"\"\n",
    "    This is only a demo!\n",
    "    Feed me a SRS 830 lockin and I will automatically adjust the sensitivity on X measurements.\n",
    "    \"\"\"\n",
    "    def __init__(self, name: str, srs, **kwargs) -> None:\n",
    "        super().__init__(name, **kwargs)\n",
    "        self.srs = srs\n",
    "        self.sens = srs.sensitivity.get()\n",
    "        self.add_parameter('X', get_cmd=self._getX)\n",
    "        self.add_parameter('P', get_cmd=self.srs.P.get)\n",
    "\n",
    "        \n",
    "    def _getX(self):\n",
    "        x = self.srs.X.get()\n",
    "        dn = 0\n",
    "        if x > self.sens * 0.9:\n",
    "            dn = 1\n",
    "        elif x < self.sens * 0.1:\n",
    "            dn = -1\n",
    "        else:\n",
    "            return x\n",
    "        n = self.srs._VOLT_TO_N[self.sens]\n",
    "        if n + dn > 26 or n + dn < 0:\n",
    "            return x\n",
    "        new = self.srs._N_TO_VOLT[n + dn]\n",
    "        self.srs.sensitivity.set(new)\n",
    "        self.sens = new\n",
    "        time.sleep(3)\n",
    "        return self.srs.X.get()"
   ]
  },
  {
   "cell_type": "code",
   "execution_count": null,
   "metadata": {},
   "outputs": [],
   "source": [
    "from qcodes.instrument_drivers.stanford_research.SR830 import SR830\n",
    "srs = SR830('srs', 'GPIB1::10::INSTR')\n",
    "srs_autoscaled = ScaleSRS('srs_autoscaled', srs)\n",
    "srs_autoscaled.X.get()\n",
    "srs_autoscaled.P.get()"
   ]
  }
 ],
 "metadata": {
  "kernelspec": {
   "display_name": "Python 3",
   "language": "python",
   "name": "python3"
  },
  "language_info": {
   "codemirror_mode": {
    "name": "ipython",
    "version": 3
   },
   "file_extension": ".py",
   "mimetype": "text/x-python",
   "name": "python",
   "nbconvert_exporter": "python",
   "pygments_lexer": "ipython3",
   "version": "3.7.0"
  }
 },
 "nbformat": 4,
 "nbformat_minor": 2
}
