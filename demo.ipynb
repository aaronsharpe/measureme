{
 "cells": [
  {
   "cell_type": "markdown",
   "metadata": {},
   "source": [
    "# Installation\n",
    "From [the docs](http://qcodes.github.io/Qcodes/start/index.html):\n",
    "\n",
    "1. Install [Anaconda](https://www.anaconda.com/download/). Get the Python 3 version. No need to install the VSCode stuff.\n",
    "1. Save [environment.yml](https://raw.githubusercontent.com/QCoDeS/Qcodes/master/environment.yml) to the machine.\n",
    "1. Run the following in an Anaconda Prompt:\n",
    "```\n",
    "conda env create -f environment.yml\n",
    "activate qcodes\n",
    "pip install qcodes\n",
    "```\n",
    "1. Close the Anaconda Prompt. You should now be able to open `Jupyter Notebook (qcodes)`."
   ]
  },
  {
   "cell_type": "code",
   "execution_count": 1,
   "metadata": {},
   "outputs": [],
   "source": [
    "import qcodes as qc"
   ]
  },
  {
   "cell_type": "code",
   "execution_count": 2,
   "metadata": {},
   "outputs": [],
   "source": [
    "# This is useful for measurements such as cooling down.\n",
    "# TODO: Pull this into its own file. Fix the value to be a bit more useful.\n",
    "import time\n",
    "class TimeParameter(qc.Parameter):\n",
    "    def __init__(self, name):\n",
    "        super().__init__(name, unit='s', label='Epoch Time', docstring='time in seconds since 1970')\n",
    "        \n",
    "    def get_raw(self):\n",
    "        return time.time()\n",
    "    \n",
    "    def set_raw(self, val):\n",
    "        None\n",
    "tp = TimeParameter('time')"
   ]
  },
  {
   "cell_type": "markdown",
   "metadata": {},
   "source": [
    "# Instrument setup\n",
    "\n",
    "At this point, each measurement setup needs to define which instruments they use. See [the docs](http://qcodes.github.io/Qcodes/user/intro.html#instrument)."
   ]
  },
  {
   "cell_type": "code",
   "execution_count": 3,
   "metadata": {},
   "outputs": [],
   "source": [
    "# For demonstration purposes, use dummy instruments that demonstrate some activated behavior.\n",
    "from qcodes.tests.instrument_mocks import DummyInstrument\n",
    "dac = DummyInstrument(name=\"dac\", gates=['ch1', 'ch2', 'ch3', 'ch4'])\n",
    "dmm = DummyInstrument(name=\"dmm\", gates=['idc', 'ig'])\n",
    "\n",
    "import math\n",
    "import random\n",
    "dmm.idc.get = lambda: 12.2*math.fabs(dac.ch1.get())*(1-math.exp(-(dac.ch1.get()*dac.ch1.get())/3.2))*random.gauss(1, 0.001) + random.gauss(0, 0.001)\n",
    "dmm.ig.get = lambda: random.gauss(0, 0.01)"
   ]
  },
  {
   "cell_type": "code",
   "execution_count": 4,
   "metadata": {},
   "outputs": [],
   "source": [
    "station = qc.Station(dac, dmm, tp)"
   ]
  },
  {
   "cell_type": "markdown",
   "metadata": {},
   "source": [
    "# Measurement\n",
    "\n",
    "From this point onward, `station.snapshot()` will give the current state of every instrument. You can also call `snapshot()` on individual instruments, as well as parameters. You can use [`qc.Measure()`](http://qcodes.github.io/Qcodes/api/generated/qcodes.measure.Measure.html#qcodes.measure.Measure) to get the current state in a `DataSet`. The results will be saved in the usual place."
   ]
  },
  {
   "cell_type": "code",
   "execution_count": 5,
   "metadata": {},
   "outputs": [],
   "source": [
    "_ = qc.Measure(dmm.idc, dmm.ig).run(name='measurement')"
   ]
  },
  {
   "cell_type": "markdown",
   "metadata": {},
   "source": [
    "A basic sweep looks something like the following:\n",
    "\n",
    "1. Create a `qc.SweepValues` or `qc.SweepFixedValues` either manually or by calling `sweep(start, stop, step)` on a parameter.\n",
    "1. Create a `qc.Loop`, set a delay time between steps, and set which values to read each step.\n",
    "1. Describe what to plot.\n",
    "1. Run the loop, using a background task to update the plot."
   ]
  },
  {
   "cell_type": "code",
   "execution_count": 6,
   "metadata": {},
   "outputs": [],
   "source": [
    "# Sweep dac.ch1 from 0 to 5, 5 to -5, and then -5 to 0.\n",
    "sv = dac.ch1.sweep(0, 5, 0.1)\n",
    "sv.extend(dac.ch1.sweep(5, -5, 0.1))\n",
    "sv.extend(dac.ch1.sweep(-5, 0, 0.1))\n",
    "\n",
    "# Pause for 0.01 seconds between steps.\n",
    "loop = qc.Loop(sv, delay=0.01).each(tp, dmm.idc, dmm.ig)\n",
    "data = loop.get_data_set(name='sweepvg')\n",
    "\n",
    "# The live plot will show up in a separate window.\n",
    "# Subplot indices start from 1... yuck!\n",
    "plot = qc.QtPlot()\n",
    "plot.add(data.dmm_idc, subplot=1)\n",
    "plot.add(data.dmm_ig, subplot=2)\n",
    "plot.add(x=data.time, y=data.dmm_idc, subplot=3)\n",
    "\n",
    "_ = loop.with_bg_task(plot.update, plot.save).run()"
   ]
  },
  {
   "cell_type": "markdown",
   "metadata": {},
   "source": [
    "The following \"sweep\" just watches for a given time. Useful for cooling your sample and so on. Follow [this issue](https://github.com/QCoDeS/Qcodes/issues/131) for more ideas. Hit the interrupt button in jupyter to cancel."
   ]
  },
  {
   "cell_type": "code",
   "execution_count": 7,
   "metadata": {},
   "outputs": [],
   "source": [
    "sv = tp.sweep(0, 3600, 0.1)\n",
    "loop = qc.Loop(sv, delay=0.1).each(tp, dmm.idc, dmm.ig)\n",
    "data = loop.get_data_set(name='cooldown')\n",
    "plot = qc.QtPlot()\n",
    "plot.add(data.dmm_idc, subplot=1)\n",
    "plot.add(data.dmm_ig, subplot=2)\n",
    "try:\n",
    "    _ = loop.with_bg_task(plot.update, plot.save).run()\n",
    "except KeyboardInterrupt:\n",
    "    pass"
   ]
  },
  {
   "cell_type": "markdown",
   "metadata": {},
   "source": [
    "Things to figure out:\n",
    "\n",
    "* Sequential `qc.Loop`s on one plot. For instance, sweep up gate then sit there for an hour.\n",
    "* Pause and resume a loop. Verify that interrupts are handled properly.\n",
    "* How to monitor instrument values while not looping. See [this PR](https://github.com/QCoDeS/Qcodes/pull/534).\n",
    "* Jupyterlab?"
   ]
  },
  {
   "cell_type": "markdown",
   "metadata": {},
   "source": [
    "# Data\n",
    "\n",
    "Data is saved automatically in a file at `DataSet.location`. It is straightforward to configure the location formatter. Plots are also automatically saved. See [the docs](http://qcodes.github.io/Qcodes/dataset/index.html) for more info. There's also an interesting note on [interdependent parameters](http://qcodes.github.io/Qcodes/dataset/interdependentparams.html#)."
   ]
  },
  {
   "cell_type": "code",
   "execution_count": null,
   "metadata": {},
   "outputs": [],
   "source": []
  }
 ],
 "metadata": {
  "kernelspec": {
   "display_name": "Python 3",
   "language": "python",
   "name": "python3"
  },
  "language_info": {
   "codemirror_mode": {
    "name": "ipython",
    "version": 3
   },
   "file_extension": ".py",
   "mimetype": "text/x-python",
   "name": "python",
   "nbconvert_exporter": "python",
   "pygments_lexer": "ipython3",
   "version": "3.6.5"
  }
 },
 "nbformat": 4,
 "nbformat_minor": 2
}
