{
 "cells": [
  {
   "cell_type": "markdown",
   "metadata": {},
   "source": [
    "# Installation\n",
    "From [the docs](http://qcodes.github.io/Qcodes/start/index.html):\n",
    "\n",
    "1. Install [Anaconda](https://www.anaconda.com/download/). Get the Python 3 version. No need to install the VSCode stuff.\n",
    "1. Save [environment.yml](https://raw.githubusercontent.com/QCoDeS/Qcodes/master/environment.yml) to the machine.\n",
    "1. Run the following in an Anaconda Prompt:\n",
    "```\n",
    "conda env create -f environment.yml\n",
    "activate qcodes\n",
    "pip install qcodes\n",
    "```\n",
    "1. Now you can run `jupyter notebook` from within your qcodes environment."
   ]
  },
  {
   "cell_type": "code",
   "execution_count": null,
   "metadata": {},
   "outputs": [],
   "source": [
    "import time\n",
    "import numpy as np\n",
    "import qcodes as qc\n",
    "from qcodes.dataset.measurements import Measurement"
   ]
  },
  {
   "cell_type": "markdown",
   "metadata": {},
   "source": [
    "# Instrument setup\n",
    "\n",
    "At this point, each measurement setup needs to define which instruments they use. See [the docs](http://qcodes.github.io/Qcodes/user/intro.html#instrument). For demonstration purposes, here I just use dummy instruments `dac` and `dmm`."
   ]
  },
  {
   "cell_type": "code",
   "execution_count": null,
   "metadata": {},
   "outputs": [],
   "source": [
    "from qcodes.tests.instrument_mocks import DummyInstrument\n",
    "dac = DummyInstrument(name=\"dac\", gates=['ch1', 'ch2'])\n",
    "dmm = DummyInstrument(name=\"dmm\", gates=['idc', 'ig'])\n",
    "\n",
    "import random\n",
    "dmm.idc.get = lambda: random.gauss(1, 0.1)\n",
    "dmm.ig.get = lambda: random.gauss(0, 0.01)"
   ]
  },
  {
   "cell_type": "markdown",
   "metadata": {},
   "source": [
    "You can set `step` and `inter_delay` on any parameters. These will apply to all future attempts to set the value, including those in loops. For instance, if `dac.ch1` can be ramped at a maximum speed of 0.1 V / ms, then do this:"
   ]
  },
  {
   "cell_type": "code",
   "execution_count": null,
   "metadata": {},
   "outputs": [],
   "source": [
    "dac.ch1.step = 0.1\n",
    "dac.ch1.inter_delay = 0.001"
   ]
  },
  {
   "cell_type": "markdown",
   "metadata": {},
   "source": [
    "# Experiment setup\n",
    "\n",
    "The first time you run qcodes on a new computer, you need to create the SQLite database. See [the docs](https://qcodes.github.io/Qcodes/dataset/index.html) for details on the design of the dataset and database. You will then want to make a new experiment to hold your data. At the very least, make a new experiment when you change out your samples."
   ]
  },
  {
   "cell_type": "code",
   "execution_count": null,
   "metadata": {},
   "outputs": [],
   "source": [
    "qc.initialise_database()\n",
    "qc.new_experiment(name='demo', sample_name='my best sample')"
   ]
  },
  {
   "cell_type": "markdown",
   "metadata": {},
   "source": [
    "# Measurement\n",
    "\n",
    "## 1D sweep\n",
    "\n",
    "In its most basic form, a 1D sweep looks like this. Below, I will go into more details."
   ]
  },
  {
   "cell_type": "code",
   "execution_count": null,
   "metadata": {},
   "outputs": [],
   "source": [
    "meas = Measurement()\n",
    "meas.register_custom_parameter('x')\n",
    "meas.register_custom_parameter('y', setpoints=('x',))\n",
    "\n",
    "with meas.run() as datasaver:\n",
    "    for x in np.linspace(0, 25, 10):\n",
    "        # Set x.\n",
    "        # Measure y.\n",
    "        datasaver.add_result(('x', x), ('y', 0.0))"
   ]
  },
  {
   "cell_type": "markdown",
   "metadata": {},
   "source": [
    "We use a `Measurement` object to specify which parameters are dependent and which are independent. In this example, I define two of each. Note that the `'time'` parameter is not a `qcodes.Parameter`!"
   ]
  },
  {
   "cell_type": "code",
   "execution_count": null,
   "metadata": {},
   "outputs": [],
   "source": [
    "meas = Measurement()\n",
    "meas.register_parameter(dac.ch1)\n",
    "meas.register_custom_parameter('time', label='Time', unit='s')\n",
    "meas.register_parameter(dmm.ig, setpoints=(dac.ch1, 'time',))\n",
    "meas.register_parameter(dmm.idc, setpoints=(dac.ch1, 'time',))"
   ]
  },
  {
   "cell_type": "markdown",
   "metadata": {},
   "source": [
    "A measurement's `write_period` specifies how often to write to the database, in seconds. This also affects how often to plot."
   ]
  },
  {
   "cell_type": "code",
   "execution_count": null,
   "metadata": {},
   "outputs": [],
   "source": [
    "meas.write_period = 1"
   ]
  },
  {
   "cell_type": "markdown",
   "metadata": {},
   "source": [
    "Add actions and after the run as necessary. This is useful for things like sweeping up gates, ensuring the magnet is off after the run, and so on."
   ]
  },
  {
   "cell_type": "code",
   "execution_count": null,
   "metadata": {},
   "outputs": [],
   "source": [
    "meas.add_before_run(lambda dac: dac.ch2.set(10), (dac,))\n",
    "meas.add_after_run(lambda dac: dac.ch2.set(0), (dac,))"
   ]
  },
  {
   "cell_type": "markdown",
   "metadata": {},
   "source": [
    "`meas.run()` will give you a nice context manager which you can use to save data. I like to catch `KeyboardInterrupt`, which will be sent when the stop button is pressed in jupyter."
   ]
  },
  {
   "cell_type": "code",
   "execution_count": null,
   "metadata": {},
   "outputs": [],
   "source": [
    "with meas.run() as datasaver:\n",
    "    try:\n",
    "        time.sleep(5)\n",
    "        t0 = time.monotonic()\n",
    "        for set_v in np.linspace(0, 25, 10):\n",
    "            dac.ch1.set(set_v)\n",
    "            time.sleep(1)\n",
    "            datasaver.add_result(\n",
    "                (dac.ch1, set_v),\n",
    "                (dmm.ig, dmm.ig.get()),\n",
    "                (dmm.idc, dmm.idc.get()),\n",
    "                ('time', time.monotonic() - t0))\n",
    "    except KeyboardInterrupt:\n",
    "        pass"
   ]
  },
  {
   "cell_type": "markdown",
   "metadata": {},
   "source": [
    "I've encapsulated 1D sweeping and plotting into a Sweep1D class. It will autorange SR830 lockins too!"
   ]
  },
  {
   "cell_type": "code",
   "execution_count": null,
   "metadata": {},
   "outputs": [],
   "source": [
    "%load Sweep1D.py"
   ]
  },
  {
   "cell_type": "code",
   "execution_count": null,
   "metadata": {},
   "outputs": [],
   "source": [
    "sweep = Sweep1D(dac.ch1)\n",
    "sweep.follow_param(dmm.ig)\n",
    "sweep.follow_param(dmm.idc)\n",
    "sweep.run(np.linspace(0, 25, 10), inter_delay=1)"
   ]
  },
  {
   "cell_type": "markdown",
   "metadata": {},
   "source": [
    "## 2D sweep\n",
    "\n",
    "TODO: Estimate total time. Live plotting."
   ]
  },
  {
   "cell_type": "code",
   "execution_count": null,
   "metadata": {},
   "outputs": [],
   "source": [
    "meas = Measurement()\n",
    "meas.register_parameter(dac.ch1)\n",
    "meas.register_parameter(dac.ch2)\n",
    "meas.register_parameter(dmm.ig, setpoints=(dac.ch1, dac.ch2))\n",
    "\n",
    "with meas.run() as datasaver:\n",
    "    try:\n",
    "        for set_ch1 in np.linspace(0, 25, 10):\n",
    "            for set_ch2 in np.linspace(0, 10, 10):\n",
    "                dac.ch1.set(set_ch1)\n",
    "                dac.ch2.set(set_ch2)\n",
    "                ig = dmm.ig.get()\n",
    "\n",
    "                datasaver.add_result((dac.ch1, set_ch1), (dac.ch2, set_ch2), (dmm.ig, ig))\n",
    "    except KeyboardInterrupt:\n",
    "        pass"
   ]
  },
  {
   "cell_type": "markdown",
   "metadata": {},
   "source": [
    "## Where is the data?\n",
    "\n",
    "See the `get_data_by_id` docstring.\n",
    "\n",
    "TODO: Make this easier to save to a csv or something."
   ]
  },
  {
   "cell_type": "code",
   "execution_count": null,
   "metadata": {},
   "outputs": [],
   "source": [
    "get_data_by_id(datasaver.run_id)"
   ]
  },
  {
   "cell_type": "code",
   "execution_count": null,
   "metadata": {},
   "outputs": [],
   "source": []
  }
 ],
 "metadata": {
  "kernelspec": {
   "display_name": "Python 3",
   "language": "python",
   "name": "python3"
  },
  "language_info": {
   "codemirror_mode": {
    "name": "ipython",
    "version": 3
   },
   "file_extension": ".py",
   "mimetype": "text/x-python",
   "name": "python",
   "nbconvert_exporter": "python",
   "pygments_lexer": "ipython3",
   "version": "3.7.1"
  }
 },
 "nbformat": 4,
 "nbformat_minor": 2
}
