{
 "cells": [
  {
   "cell_type": "markdown",
   "metadata": {},
   "source": [
    "# Installation\n",
    "From [the docs](http://qcodes.github.io/Qcodes/start/index.html):\n",
    "\n",
    "1. Install [Anaconda](https://www.anaconda.com/download/). Get the Python 3 version. No need to install the VSCode stuff.\n",
    "1. Save [environment.yml](https://raw.githubusercontent.com/QCoDeS/Qcodes/master/environment.yml) to the machine.\n",
    "1. Run the following in an Anaconda Prompt:\n",
    "```\n",
    "conda env create -f environment.yml\n",
    "activate qcodes\n",
    "pip install qcodes\n",
    "```\n",
    "1. Close the Anaconda Prompt. You should now be able to open `Jupyter Notebook (qcodes)`."
   ]
  },
  {
   "cell_type": "code",
   "execution_count": null,
   "metadata": {},
   "outputs": [],
   "source": [
    "import qcodes as qc"
   ]
  },
  {
   "cell_type": "markdown",
   "metadata": {},
   "source": [
    "# Instrument setup\n",
    "\n",
    "At this point, each measurement setup needs to define which instruments they use. See [the docs](http://qcodes.github.io/Qcodes/user/intro.html#instrument). For demonstration purposes, here I just use dummy instruments `dac` and `dmm`."
   ]
  },
  {
   "cell_type": "code",
   "execution_count": null,
   "metadata": {},
   "outputs": [],
   "source": [
    "from qcodes.tests.instrument_mocks import DummyInstrument\n",
    "dac = DummyInstrument(name=\"dac\", gates=['ch1', 'ch2'])\n",
    "dmm = DummyInstrument(name=\"dmm\", gates=['idc', 'ig'])\n",
    "\n",
    "import math\n",
    "import random\n",
    "def semiconductor():\n",
    "    gates = dac.ch1.get() + 0.6*dac.ch2.get()\n",
    "    return 12.2*math.fabs(gates)*(1-math.exp(-(gates*gates)/3.2))*random.gauss(1, 0.001) + random.gauss(0, 0.001)\n",
    "dmm.idc.get = semiconductor\n",
    "dmm.ig.get = lambda: random.gauss(0, 0.01)"
   ]
  },
  {
   "cell_type": "markdown",
   "metadata": {},
   "source": [
    "# Measurement\n",
    "\n",
    "## Measure a single value\n",
    "\n",
    "From this point onward, `station.snapshot()` will give the current state of every instrument. You can also call `snapshot()` on individual instruments, as well as parameters. You can use [`qc.Measure()`](http://qcodes.github.io/Qcodes/api/generated/qcodes.measure.Measure.html#qcodes.measure.Measure) to get the current state in a `DataSet`. The results will be saved in the usual place."
   ]
  },
  {
   "cell_type": "code",
   "execution_count": null,
   "metadata": {},
   "outputs": [],
   "source": [
    "_ = qc.Measure(dmm.idc, dmm.ig).run(name='measurement')"
   ]
  },
  {
   "cell_type": "markdown",
   "metadata": {},
   "source": [
    "## 1D sweep\n",
    "\n",
    "A basic sweep looks something like the following:\n",
    "\n",
    "1. Create a `qc.SweepValues` or `qc.SweepFixedValues` either manually or by calling `sweep(start, stop, step)` on a parameter.\n",
    "1. Create a `qc.Loop`, set a delay time between steps, and set which values to read each step.\n",
    "1. Describe what to plot.\n",
    "1. Run the loop, using a background task to update the plot.\n",
    "\n",
    "Catch `KeyboardInterrupt` from the `loop.run()` call to make it not spit out a stacktrace when you abort the measurement. It will still save your data!"
   ]
  },
  {
   "cell_type": "code",
   "execution_count": null,
   "metadata": {},
   "outputs": [],
   "source": [
    "from tp import TimeParameter"
   ]
  },
  {
   "cell_type": "code",
   "execution_count": null,
   "metadata": {},
   "outputs": [],
   "source": [
    "# Sweep dac.ch1 from 0 to 5, 5 to -5, and then -5 to 0.\n",
    "sv = dac.ch1.sweep(0, 5, 0.1)\n",
    "sv.extend(dac.ch1.sweep(5, -5, 0.1))\n",
    "sv.extend(dac.ch1.sweep(-5, 0, 0.1))\n",
    "\n",
    "# Pause for 0.01 seconds between steps.\n",
    "loop = qc.Loop(sv, delay=0.01).each(TimeParameter(), dmm.idc, dmm.ig)\n",
    "data = loop.get_data_set(name='sweepvg')\n",
    "\n",
    "# Subplot indices start from 1... yuck!\n",
    "plot = qc.QtPlot()\n",
    "plot.add(data.dmm_idc, subplot=1)\n",
    "plot.add(data.dmm_ig, subplot=2)\n",
    "plot.add(x=data.time, y=data.dmm_idc, subplot=3)\n",
    "\n",
    "try:\n",
    "    _ = loop.with_bg_task(plot.update, plot.save).run()\n",
    "except KeyboardInterrupt:\n",
    "    pass"
   ]
  },
  {
   "cell_type": "markdown",
   "metadata": {},
   "source": [
    "## Continuously measure\n",
    "\n",
    "The following \"sweep\" just watches for a given time. Useful for cooling your sample and so on. Follow [this issue](https://github.com/QCoDeS/Qcodes/issues/131) for more ideas. Hit the interrupt button in jupyter to cancel."
   ]
  },
  {
   "cell_type": "code",
   "execution_count": null,
   "metadata": {},
   "outputs": [],
   "source": [
    "from tp import loop_continuous"
   ]
  },
  {
   "cell_type": "code",
   "execution_count": null,
   "metadata": {},
   "outputs": [],
   "source": [
    "loop = loop_continuous(3600, 0.1).each(dmm.idc, dmm.ig)\n",
    "data = loop.get_data_set(name='cooldown')\n",
    "plot = qc.QtPlot()\n",
    "plot.add(data.dmm_idc, subplot=1)\n",
    "plot.add(data.dmm_ig, subplot=2)\n",
    "\n",
    "try:\n",
    "    _ = loop.with_bg_task(plot.update, plot.save).run()\n",
    "except KeyboardInterrupt:\n",
    "    pass"
   ]
  },
  {
   "cell_type": "markdown",
   "metadata": {},
   "source": [
    "# Data\n",
    "\n",
    "Data is saved automatically in a file at `DataSet.location`. It is straightforward to configure the location formatter. Plots are also automatically saved. See [the docs](http://qcodes.github.io/Qcodes/dataset/index.html) for more info. There's also an interesting note on [interdependent parameters](http://qcodes.github.io/Qcodes/dataset/interdependentparams.html#)."
   ]
  },
  {
   "cell_type": "code",
   "execution_count": null,
   "metadata": {},
   "outputs": [],
   "source": []
  }
 ],
 "metadata": {
  "kernelspec": {
   "display_name": "Python 3",
   "language": "python",
   "name": "python3"
  },
  "language_info": {
   "codemirror_mode": {
    "name": "ipython",
    "version": 3
   },
   "file_extension": ".py",
   "mimetype": "text/x-python",
   "name": "python",
   "nbconvert_exporter": "python",
   "pygments_lexer": "ipython3",
   "version": "3.6.5"
  }
 },
 "nbformat": 4,
 "nbformat_minor": 2
}
