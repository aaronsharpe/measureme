{
 "cells": [
  {
   "cell_type": "markdown",
   "metadata": {},
   "source": [
    "# Installation\n",
    "From [the docs](http://qcodes.github.io/Qcodes/start/index.html):\n",
    "\n",
    "1. Install [Anaconda](https://www.anaconda.com/download/). Get the Python 3 version. No need to install the VSCode stuff.\n",
    "1. Save [environment.yml](https://raw.githubusercontent.com/QCoDeS/Qcodes/master/environment.yml) to the machine.\n",
    "1. Run the following in an Anaconda Prompt:\n",
    "```\n",
    "conda env create -f environment.yml\n",
    "activate qcodes\n",
    "pip install qcodes\n",
    "```\n",
    "1. Now you can run `jupyter notebook` from within your qcodes environment."
   ]
  },
  {
   "cell_type": "code",
   "execution_count": null,
   "metadata": {},
   "outputs": [],
   "source": [
    "import time\n",
    "import numpy as np\n",
    "import qcodes as qc\n",
    "from qcodes.dataset.measurements import Measurement"
   ]
  },
  {
   "cell_type": "markdown",
   "metadata": {},
   "source": [
    "# Instrument setup\n",
    "\n",
    "At this point, each measurement setup needs to define which instruments they use. See [the docs](http://qcodes.github.io/Qcodes/user/intro.html#instrument). For demonstration purposes, here I just use dummy instruments `dac` and `dmm`."
   ]
  },
  {
   "cell_type": "code",
   "execution_count": null,
   "metadata": {},
   "outputs": [],
   "source": [
    "from qcodes.tests.instrument_mocks import DummyInstrument\n",
    "dac = DummyInstrument(name=\"dac\", gates=['ch1', 'ch2'])\n",
    "dmm = DummyInstrument(name=\"dmm\", gates=['idc', 'ig'])\n",
    "\n",
    "import random\n",
    "dmm.idc.get = lambda: random.gauss(1, 0.1)\n",
    "dmm.ig.get = lambda: random.gauss(0, 0.01)"
   ]
  },
  {
   "cell_type": "markdown",
   "metadata": {},
   "source": [
    "You can set `step` and `inter_delay` on any parameters. These will apply to all future attempts to set the value, including those in loops. For instance, if `dac.ch1` can be ramped at a maximum speed of 0.1 V / ms, then do this:"
   ]
  },
  {
   "cell_type": "code",
   "execution_count": null,
   "metadata": {},
   "outputs": [],
   "source": [
    "dac.ch1.step = 0.1\n",
    "dac.ch1.inter_delay = 0.001"
   ]
  },
  {
   "cell_type": "markdown",
   "metadata": {},
   "source": [
    "# Experiment setup\n",
    "\n",
    "The first time you run qcodes on a new computer, you need to create the SQLite database. See [the docs](https://qcodes.github.io/Qcodes/dataset/index.html) for details on the design of the dataset and database. You will then want to make a new experiment to hold your data. At the very least, make a new experiment when you change out your samples."
   ]
  },
  {
   "cell_type": "code",
   "execution_count": null,
   "metadata": {},
   "outputs": [],
   "source": [
    "qc.initialise_database()\n",
    "qc.new_experiment(name='demo', sample_name='my best sample')"
   ]
  },
  {
   "cell_type": "markdown",
   "metadata": {},
   "source": [
    "# Measurement\n",
    "\n",
    "## 1D sweep"
   ]
  },
  {
   "cell_type": "code",
   "execution_count": null,
   "metadata": {},
   "outputs": [],
   "source": [
    "%load sweep.py"
   ]
  },
  {
   "cell_type": "code",
   "execution_count": null,
   "metadata": {},
   "outputs": [],
   "source": [
    "s = Sweep()\n",
    "s.follow_param(dmm.ig, gain=10)\n",
    "s.follow_param(dmm.idc)\n",
    "s.sweep(dac.ch1, np.linspace(0, 25, 10), inter_delay=0.5)\n",
    "s.sweep(dac.ch1, np.linspace(25, 0, 10), inter_delay=0.5)\n",
    "s.sweep(dac.ch1, np.concatenate((np.linspace(0, 25, 10), np.linspace(25, 0, 10))), inter_delay=0.1)"
   ]
  },
  {
   "cell_type": "markdown",
   "metadata": {},
   "source": [
    "## 2D sweep"
   ]
  },
  {
   "cell_type": "code",
   "execution_count": null,
   "metadata": {},
   "outputs": [],
   "source": [
    "meas = Measurement()\n",
    "meas.register_parameter(dac.ch1)\n",
    "meas.register_parameter(dac.ch2)\n",
    "meas.register_parameter(dmm.ig, setpoints=(dac.ch1, dac.ch2))\n",
    "\n",
    "with meas.run() as datasaver:\n",
    "    try:\n",
    "        for set_ch1 in np.linspace(0, 25, 10):\n",
    "            for set_ch2 in np.linspace(0, 10, 10):\n",
    "                dac.ch1.set(set_ch1)\n",
    "                dac.ch2.set(set_ch2)\n",
    "                ig = dmm.ig.get()\n",
    "\n",
    "                datasaver.add_result((dac.ch1, set_ch1), (dac.ch2, set_ch2), (dmm.ig, ig))\n",
    "    except KeyboardInterrupt:\n",
    "        pass"
   ]
  },
  {
   "cell_type": "markdown",
   "metadata": {},
   "source": [
    "## Where is the data?\n",
    "\n",
    "See the `get_data_by_id` docstring.\n",
    "\n",
    "TODO: Make this easier to save to a csv or something."
   ]
  },
  {
   "cell_type": "code",
   "execution_count": null,
   "metadata": {},
   "outputs": [],
   "source": [
    "get_data_by_id(datasaver.run_id)"
   ]
  },
  {
   "cell_type": "code",
   "execution_count": null,
   "metadata": {},
   "outputs": [],
   "source": []
  }
 ],
 "metadata": {
  "kernelspec": {
   "display_name": "Python 3",
   "language": "python",
   "name": "python3"
  },
  "language_info": {
   "codemirror_mode": {
    "name": "ipython",
    "version": 3
   },
   "file_extension": ".py",
   "mimetype": "text/x-python",
   "name": "python",
   "nbconvert_exporter": "python",
   "pygments_lexer": "ipython3",
   "version": "3.7.2"
  }
 },
 "nbformat": 4,
 "nbformat_minor": 2
}
