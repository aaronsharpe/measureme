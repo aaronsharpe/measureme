{
 "cells": [
  {
   "cell_type": "markdown",
   "metadata": {},
   "source": [
    "**Status: The qcodes dataset changes are still fresh. Proceed at your device's risk.**"
   ]
  },
  {
   "cell_type": "markdown",
   "metadata": {},
   "source": [
    "# Installation\n",
    "From [the docs](http://qcodes.github.io/Qcodes/start/index.html):\n",
    "\n",
    "1. Install [Anaconda](https://www.anaconda.com/download/). Get the Python 3 version. No need to install the VSCode stuff.\n",
    "1. Save [environment.yml](https://raw.githubusercontent.com/QCoDeS/Qcodes/master/environment.yml) to the machine.\n",
    "1. Run the following in an Anaconda Prompt:\n",
    "```\n",
    "conda env create -f environment.yml\n",
    "activate qcodes\n",
    "pip install qcodes\n",
    "```\n",
    "1. Now you can run `jupyter notebook` from within your qcodes environment."
   ]
  },
  {
   "cell_type": "code",
   "execution_count": null,
   "metadata": {},
   "outputs": [],
   "source": [
    "%matplotlib notebook\n",
    "import time\n",
    "import numpy as np\n",
    "import matplotlib.pyplot as plt\n",
    "import qcodes as qc\n",
    "from qcodes.dataset.measurements import Measurement\n",
    "from qcodes.dataset.plotting import plot_by_id\n",
    "from qcodes.dataset.data_export import get_data_by_id"
   ]
  },
  {
   "cell_type": "markdown",
   "metadata": {},
   "source": [
    "# Instrument setup\n",
    "\n",
    "At this point, each measurement setup needs to define which instruments they use. See [the docs](http://qcodes.github.io/Qcodes/user/intro.html#instrument). For demonstration purposes, here I just use dummy instruments `dac` and `dmm`."
   ]
  },
  {
   "cell_type": "code",
   "execution_count": null,
   "metadata": {},
   "outputs": [],
   "source": [
    "from qcodes.tests.instrument_mocks import DummyInstrument\n",
    "dac = DummyInstrument(name=\"dac\", gates=['ch1', 'ch2'])\n",
    "dmm = DummyInstrument(name=\"dmm\", gates=['idc', 'ig'])\n",
    "\n",
    "import random\n",
    "dmm.idc.get = lambda: random.gauss(1, 0.1)\n",
    "dmm.ig.get = lambda: random.gauss(0, 0.01)\n",
    "\n",
    "station = qc.Station(dac, dmm)"
   ]
  },
  {
   "cell_type": "markdown",
   "metadata": {},
   "source": [
    "# Experiment setup\n",
    "\n",
    "The first time you run qcodes on a new computer, you need to create the SQLite database. See [the docs](https://qcodes.github.io/Qcodes/dataset/index.html) for details on the design of the dataset and database. You will then want to make a new experiment to hold your data. At the very least, make a new experiment when you change out your samples."
   ]
  },
  {
   "cell_type": "code",
   "execution_count": null,
   "metadata": {},
   "outputs": [],
   "source": [
    "qc.initialise_database()\n",
    "qc.new_experiment(name='demo', sample_name='my best sample')"
   ]
  },
  {
   "cell_type": "markdown",
   "metadata": {},
   "source": [
    "# Measurement\n",
    "\n",
    "## 1D sweep\n",
    "\n",
    "TODO: Improve live plotting."
   ]
  },
  {
   "cell_type": "code",
   "execution_count": null,
   "metadata": {},
   "outputs": [],
   "source": [
    "# Setpoints specify which parameters are independent and which are dependent.\n",
    "# For a 1D sweep, we will have 1 independent parameter and any number of dependent parameters.\n",
    "meas = Measurement()\n",
    "meas.register_parameter(dac.ch1)\n",
    "meas.register_parameter(dmm.ig, setpoints=(dac.ch1,))\n",
    "meas.register_parameter(dmm.idc, setpoints=(dac.ch1,))\n",
    "\n",
    "# These are totally optional, but can be useful.\n",
    "meas.add_before_run(lambda: print('This happens first.'), ())\n",
    "meas.add_before_run(lambda dmm: print(f'This happens next: {dmm.idc.get()}'), (dmm,))\n",
    "meas.add_after_run(lambda: print('This happens last.'), ())\n",
    "\n",
    "# This, along with the plot update logic, are terrible. Maybe the qcodes people know better?\n",
    "fig, axs = plt.subplots(1, 2, figsize=(8, 4))\n",
    "axs[0].set_xlabel(f'{dac.ch1.label} ({dac.ch1.unit})')\n",
    "axs[0].set_ylabel(f'{dmm.ig.label} ({dmm.ig.unit})')\n",
    "axs[1].set_xlabel(f'{dac.ch1.label} ({dac.ch1.unit})')\n",
    "axs[1].set_ylabel(f'{dmm.idc.label} ({dmm.idc.unit})')\n",
    "lines = [ax.plot([], [])[0] for ax in axs]\n",
    "fig.show()\n",
    "\n",
    "with meas.run() as datasaver:\n",
    "    for set_v in np.linspace(0, 25, 10):\n",
    "        dac.ch1.set(set_v)\n",
    "        ig = dmm.ig.get()\n",
    "        idc = dmm.idc.get()\n",
    "        \n",
    "        datasaver.add_result((dac.ch1, set_v), (dmm.ig, ig), (dmm.idc, idc))\n",
    "        \n",
    "        # Plot update logic. It's bad.\n",
    "        lines[0].set_xdata(np.append(lines[0].get_xdata(), set_v))\n",
    "        lines[0].set_ydata(np.append(lines[0].get_ydata(), ig))\n",
    "        lines[1].set_xdata(np.append(lines[1].get_xdata(), set_v))\n",
    "        lines[1].set_ydata(np.append(lines[1].get_ydata(), idc))\n",
    "        for ax in axs:\n",
    "            ax.relim()\n",
    "            ax.autoscale_view()\n",
    "        fig.tight_layout()\n",
    "        fig.canvas.draw()"
   ]
  },
  {
   "cell_type": "markdown",
   "metadata": {},
   "source": [
    "## Continuously measure\n",
    "\n",
    "TODO: Is this try/catch method actually safe? Check `datasaver.add_result`, and maybe check the getters?"
   ]
  },
  {
   "cell_type": "code",
   "execution_count": null,
   "metadata": {},
   "outputs": [],
   "source": [
    "# Let's register a custom independent parameter called 'time'.\n",
    "# This does not need to be a qcodes parameter!\n",
    "meas = Measurement()\n",
    "meas.register_custom_parameter('time', label='Time', unit='s')\n",
    "meas.register_parameter(dmm.ig, setpoints=('time',))\n",
    "\n",
    "fig, ax = plt.subplots(1, 1, figsize=(4, 4))\n",
    "ax.set_xlabel('Time (s)')\n",
    "ax.set_ylabel(f'{dmm.ig.label} ({dmm.ig.unit})')\n",
    "lines = ax.plot([], [])[0]\n",
    "fig.show()\n",
    "\n",
    "with meas.run() as datasaver:     \n",
    "    try:\n",
    "        while True:\n",
    "            t = time.monotonic()\n",
    "            ig = dmm.ig.get()\n",
    "            datasaver.add_result(('time', t), (dmm.ig, ig))\n",
    "            \n",
    "            lines.set_xdata(np.append(lines.get_xdata(), t))\n",
    "            lines.set_ydata(np.append(lines.get_ydata(), ig))\n",
    "            ax.relim()\n",
    "            ax.autoscale_view()\n",
    "            fig.tight_layout()\n",
    "            fig.canvas.draw()\n",
    "            \n",
    "            time.sleep(1)\n",
    "    except KeyboardInterrupt:\n",
    "        pass"
   ]
  },
  {
   "cell_type": "markdown",
   "metadata": {},
   "source": [
    "## 2D sweep\n",
    "\n",
    "TODO: Estimate total time. Live plotting."
   ]
  },
  {
   "cell_type": "code",
   "execution_count": null,
   "metadata": {},
   "outputs": [],
   "source": [
    "meas = Measurement()\n",
    "meas.register_parameter(dac.ch1)\n",
    "meas.register_parameter(dac.ch2)\n",
    "meas.register_parameter(dmm.ig, setpoints=(dac.ch1, dac.ch2))\n",
    "\n",
    "with meas.run() as datasaver:\n",
    "    try:\n",
    "        for set_ch1 in np.linspace(0, 25, 10):\n",
    "            for set_ch2 in np.linspace(0, 10, 10):\n",
    "                dac.ch1.set(set_ch1)\n",
    "                dac.ch2.set(set_ch2)\n",
    "                ig = dmm.ig.get()\n",
    "\n",
    "                datasaver.add_result((dac.ch1, set_ch1), (dac.ch2, set_ch2), (dmm.ig, ig))\n",
    "    except KeyboardInterrupt:\n",
    "        pass\n",
    "    dataid = datasaver.run_id\n",
    "plot_by_id(dataid)"
   ]
  },
  {
   "cell_type": "markdown",
   "metadata": {},
   "source": [
    "## Where is the data?\n",
    "\n",
    "See the `get_data_by_id` docstring.\n",
    "\n",
    "TODO: Make this easier to save to a csv or something."
   ]
  },
  {
   "cell_type": "code",
   "execution_count": null,
   "metadata": {},
   "outputs": [],
   "source": [
    "get_data_by_id(dataid)"
   ]
  }
 ],
 "metadata": {
  "kernelspec": {
   "display_name": "Python 3",
   "language": "python",
   "name": "python3"
  },
  "language_info": {
   "codemirror_mode": {
    "name": "ipython",
    "version": 3
   },
   "file_extension": ".py",
   "mimetype": "text/x-python",
   "name": "python",
   "nbconvert_exporter": "python",
   "pygments_lexer": "ipython3",
   "version": "3.7.0"
  }
 },
 "nbformat": 4,
 "nbformat_minor": 2
}
