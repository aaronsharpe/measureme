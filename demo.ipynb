{
 "cells": [
  {
   "cell_type": "markdown",
   "metadata": {},
   "source": [
    "# Installation\n",
    "From [the docs](http://qcodes.github.io/Qcodes/start/index.html):\n",
    "\n",
    "1. Install [Anaconda](https://www.anaconda.com/download/). Get the Python 3 version. No need to install the VSCode stuff.\n",
    "1. Save [environment.yml](https://raw.githubusercontent.com/QCoDeS/Qcodes/master/environment.yml) to the machine.\n",
    "1. Run the following in an Anaconda Prompt:\n",
    "```\n",
    "conda env create -f environment.yml\n",
    "activate qcodes\n",
    "pip install qcodes\n",
    "```\n",
    "1. Now you can run `jupyter notebook` from within your qcodes environment."
   ]
  },
  {
   "cell_type": "code",
   "execution_count": null,
   "metadata": {},
   "outputs": [],
   "source": [
    "import time\n",
    "import numpy as np\n",
    "import qcodes as qc\n",
    "from qcodes.dataset.measurements import Measurement"
   ]
  },
  {
   "cell_type": "markdown",
   "metadata": {},
   "source": [
    "# Instrument setup\n",
    "\n",
    "At this point, each measurement setup needs to define which instruments they use. See [the docs](http://qcodes.github.io/Qcodes/user/intro.html#instrument). For demonstration purposes, here I just use dummy instruments `dac` and `dmm`."
   ]
  },
  {
   "cell_type": "code",
   "execution_count": null,
   "metadata": {},
   "outputs": [],
   "source": [
    "from qcodes.tests.instrument_mocks import DummyInstrument\n",
    "dac = DummyInstrument(name=\"dac\", gates=['ch1', 'ch2'])\n",
    "dmm = DummyInstrument(name=\"dmm\", gates=['idc', 'ig'])\n",
    "\n",
    "import random\n",
    "dmm.idc.get = lambda: random.gauss(1, 0.1)\n",
    "dmm.ig.get = lambda: random.gauss(0, 0.01)"
   ]
  },
  {
   "cell_type": "markdown",
   "metadata": {},
   "source": [
    "You can set `step` and `inter_delay` on any parameters. These will apply to all future attempts to set the value, including those in loops. For instance, if `dac.ch1` can be ramped at a maximum speed of 0.1 V / ms, then do this:"
   ]
  },
  {
   "cell_type": "code",
   "execution_count": null,
   "metadata": {},
   "outputs": [],
   "source": [
    "dac.ch1.step = 0.1\n",
    "dac.ch1.inter_delay = 0.001"
   ]
  },
  {
   "cell_type": "markdown",
   "metadata": {},
   "source": [
    "# Experiment setup\n",
    "\n",
    "The first time you run qcodes on a new computer, you need to create the SQLite database. See [the docs](https://qcodes.github.io/Qcodes/dataset/index.html) for details on the design of the dataset and database. You will then want to make a new experiment to hold your data. At the very least, make a new experiment when you change out your samples."
   ]
  },
  {
   "cell_type": "code",
   "execution_count": null,
   "metadata": {},
   "outputs": [],
   "source": [
    "qc.initialise_database()\n",
    "qc.new_experiment(name='demo', sample_name='my best sample')"
   ]
  },
  {
   "cell_type": "markdown",
   "metadata": {},
   "source": [
    "# Measurement\n",
    "\n",
    "## 1D sweep\n",
    "\n",
    "In its most basic form, a 1D sweep looks like this. Below, I will go into more details."
   ]
  },
  {
   "cell_type": "code",
   "execution_count": null,
   "metadata": {},
   "outputs": [],
   "source": [
    "meas = Measurement()\n",
    "meas.register_custom_parameter('x')\n",
    "meas.register_custom_parameter('y', setpoints=('x',))\n",
    "\n",
    "with meas.run() as datasaver:\n",
    "    for x in np.linspace(0, 25, 10):\n",
    "        # Set x.\n",
    "        # Measure y.\n",
    "        datasaver.add_result(('x', x), ('y', 0.0))"
   ]
  },
  {
   "cell_type": "markdown",
   "metadata": {},
   "source": [
    "We use a `Measurement` object to specify which parameters are dependent and which are independent. In this example, I define two of each. Note that the `'time'` parameter is not a `qcodes.Parameter`!"
   ]
  },
  {
   "cell_type": "code",
   "execution_count": null,
   "metadata": {},
   "outputs": [],
   "source": [
    "meas = Measurement()\n",
    "meas.register_parameter(dac.ch1)\n",
    "meas.register_custom_parameter('time', label='Time', unit='s')\n",
    "meas.register_parameter(dmm.ig, setpoints=(dac.ch1, 'time',))\n",
    "meas.register_parameter(dmm.idc, setpoints=(dac.ch1, 'time',))"
   ]
  },
  {
   "cell_type": "markdown",
   "metadata": {},
   "source": [
    "A measurement's `write_period` specifies how often to write to the database, in seconds. This also affects how often to plot."
   ]
  },
  {
   "cell_type": "code",
   "execution_count": null,
   "metadata": {},
   "outputs": [],
   "source": [
    "meas.write_period = 1"
   ]
  },
  {
   "cell_type": "markdown",
   "metadata": {},
   "source": [
    "Add actions and after the run as necessary. This is useful for things like sweeping up gates, ensuring the magnet is off after the run, and so on."
   ]
  },
  {
   "cell_type": "code",
   "execution_count": null,
   "metadata": {},
   "outputs": [],
   "source": [
    "meas.add_before_run(lambda dac: dac.ch2.set(10), (dac,))\n",
    "meas.add_after_run(lambda dac: dac.ch2.set(0), (dac,))"
   ]
  },
  {
   "cell_type": "markdown",
   "metadata": {},
   "source": [
    "`meas.run()` will give you a nice context manager which you can use to save data. I like to catch `KeyboardInterrupt`, which will be sent when the stop button is pressed in jupyter."
   ]
  },
  {
   "cell_type": "code",
   "execution_count": null,
   "metadata": {},
   "outputs": [],
   "source": [
    "with meas.run() as datasaver:\n",
    "    try:\n",
    "        time.sleep(5)\n",
    "        t0 = time.monotonic()\n",
    "        for set_v in np.linspace(0, 25, 10):\n",
    "            dac.ch1.set(set_v)\n",
    "            time.sleep(1)\n",
    "            datasaver.add_result(\n",
    "                (dac.ch1, set_v),\n",
    "                (dmm.ig, dmm.ig.get()),\n",
    "                (dmm.idc, dmm.idc.get()),\n",
    "                ('time', time.monotonic() - t0))\n",
    "    except KeyboardInterrupt:\n",
    "        pass"
   ]
  },
  {
   "cell_type": "markdown",
   "metadata": {},
   "source": [
    "I've encapsulated 1D sweeping and plotting into a Sweep1D class. It will autorange SR830 lockins too!"
   ]
  },
  {
   "cell_type": "code",
   "execution_count": null,
   "metadata": {},
   "outputs": [],
   "source": [
    "# %load sweep.py\n",
    "import io\n",
    "import time\n",
    "import numpy as np\n",
    "import matplotlib.pyplot as plt\n",
    "from matplotlib.ticker import ScalarFormatter\n",
    "import qcodes as qc\n",
    "from qcodes.dataset.measurements import Measurement\n",
    "from IPython import display\n",
    "\n",
    "def _autorange_srs(srs, max_changes=1):\n",
    "    def autorange_once():\n",
    "        r = srs.R.get()\n",
    "        sens = srs.sensitivity.get()\n",
    "        if r > 0.9 * sens:\n",
    "            return srs.increment_sensitivity()\n",
    "        elif r < 0.1 * sens:\n",
    "            return srs.decrement_sensitivity()\n",
    "        return False\n",
    "    sets = 0\n",
    "    while autorange_once() and sets < max_changes:\n",
    "        sets += 1\n",
    "        time.sleep(10*srs.time_constant.get())\n",
    "\n",
    "class Sweep(object):\n",
    "    def __init__(self):\n",
    "        self._sr830s = []\n",
    "        self._params = []\n",
    "    \n",
    "    def follow_param(self, p):\n",
    "        self._params.append(p)\n",
    "\n",
    "    def follow_sr830(self, l, name, gain=1.0):\n",
    "        self._sr830s.append((l, name, gain))\n",
    "\n",
    "    def _create_measurement(self, *set_params):\n",
    "        meas = Measurement()\n",
    "        for p in set_params:\n",
    "            meas.register_parameter(p)\n",
    "        meas.register_custom_parameter('time', label='Time', unit='s')\n",
    "        for p in self._params:\n",
    "            meas.register_parameter(p, setpoints=(*set_params, 'time',))\n",
    "        for l, _, _ in self._sr830s:\n",
    "            meas.register_parameter(l.X, setpoints=(*set_params, 'time',))\n",
    "            meas.register_parameter(l.Y, setpoints=(*set_params, 'time',))\n",
    "        return meas\n",
    "    \n",
    "    def sweep(self, set_param, vals, inter_delay=None):\n",
    "        if inter_delay is not None:\n",
    "            d = len(vals)*inter_delay\n",
    "            h, m, s = int(d/3600), int(d/60) % 60, int(d) % 60\n",
    "            print(f'Minimum duration: {h}h {m}m {s}s')\n",
    "\n",
    "        fig = plt.figure(figsize=(4*(2 + len(self._params) + len(self._sr830s)),4))\n",
    "        grid = plt.GridSpec(4, 1 + len(self._params) + len(self._sr830s), hspace=0)\n",
    "        setax = fig.add_subplot(grid[:, 0])\n",
    "        setax.set_xlabel('Time (s)')\n",
    "        setax.set_ylabel(f'{set_param.label} ({set_param.unit})')\n",
    "        setaxline = setax.plot([], [])[0]\n",
    "\n",
    "        paxs = []\n",
    "        plines = []\n",
    "        for i, p in enumerate(self._params):\n",
    "            ax = fig.add_subplot(grid[:, 1 + i])\n",
    "            ax.set_xlabel(f'{set_param.label} ({set_param.unit})')\n",
    "            ax.set_ylabel(f'{p.label} ({p.unit})')\n",
    "            paxs.append(ax)\n",
    "            plines.append(ax.plot([], [])[0])\n",
    "\n",
    "        laxs = []\n",
    "        llines = []\n",
    "        for i, (l, name, _) in enumerate(self._sr830s):\n",
    "            ax0 = fig.add_subplot(grid[:-1, 1 + len(self._params) + i])\n",
    "            ax0.set_ylabel(f'{name} (V)')\n",
    "            fmt = ScalarFormatter()\n",
    "            fmt.set_powerlimits((-3, 3))\n",
    "            ax0.get_yaxis().set_major_formatter(fmt)\n",
    "            laxs.append(ax0)\n",
    "            llines.append(ax0.plot([], [])[0])\n",
    "            ax1 = fig.add_subplot(grid[-1, 1 + len(self._params) + i], sharex=ax0)\n",
    "            ax1.set_ylabel('Phase (°)')\n",
    "            ax1.set_xlabel(f'{set_param.label} ({set_param.unit})')\n",
    "            laxs.append(ax1)\n",
    "            llines.append(ax1.plot([], [])[0])\n",
    "            plt.setp(ax0.get_xticklabels(), visible=False)\n",
    "\n",
    "        fig.tight_layout()\n",
    "        fig.show()\n",
    "\n",
    "        meas = self._create_measurement(set_param)\n",
    "        with meas.run() as datasaver:\n",
    "            t0 = time.monotonic()\n",
    "            for setpoint in vals:\n",
    "                t = time.monotonic() - t0\n",
    "                set_param.set(setpoint)\n",
    "                \n",
    "                setaxline.set_xdata(np.append(setaxline.get_xdata(), t))\n",
    "                setaxline.set_ydata(np.append(setaxline.get_ydata(), setpoint))\n",
    "                setax.relim()\n",
    "                setax.autoscale_view()\n",
    "                \n",
    "                if inter_delay is not None:\n",
    "                    plt.pause(inter_delay)\n",
    "\n",
    "                data = [\n",
    "                    (set_param, setpoint),\n",
    "                    ('time', t)\n",
    "                ]\n",
    "                for i, p in enumerate(self._params):\n",
    "                    v = p.get()\n",
    "                    data.append((p, v))\n",
    "                    plines[i].set_xdata(np.append(plines[i].get_xdata(), setpoint))\n",
    "                    plines[i].set_ydata(np.append(plines[i].get_ydata(), v))\n",
    "                    paxs[i].relim()\n",
    "                    paxs[i].autoscale_view()\n",
    "                for i, (l, _, gain) in enumerate(self._sr830s):\n",
    "                    _autorange_srs(l, 3)\n",
    "                    x, y = l.snap('x', 'y')\n",
    "                    x, y = x / gain, y / gain\n",
    "                    data.extend([(l.X, x), (l.Y, y)])\n",
    "                    llines[i*2].set_xdata(np.append(llines[i*2].get_xdata(), setpoint))\n",
    "                    llines[i*2].set_ydata(np.append(llines[i*2].get_ydata(), x))\n",
    "                    llines[i*2+1].set_xdata(np.append(llines[i*2+1].get_xdata(), setpoint))\n",
    "                    llines[i*2+1].set_ydata(np.append(llines[i*2+1].get_ydata(), np.arctan2(y, x) * 180 / np.pi))\n",
    "                    laxs[i*2].relim()\n",
    "                    laxs[i*2].autoscale_view()\n",
    "                    laxs[i*2+1].relim()\n",
    "                    laxs[i*2+1].autoscale_view()\n",
    "\n",
    "                datasaver.add_result(*data)\n",
    "                \n",
    "                fig.tight_layout()\n",
    "                fig.canvas.draw()\n",
    "                plt.pause(0.001)\n",
    "\n",
    "            d = time.monotonic() - t0\n",
    "            h, m, s = int(d/3600), int(d/60) % 60, int(d) % 60\n",
    "            print(f'Completed in: {h}h {m}m {s}s')\n",
    "\n",
    "            b = io.BytesIO()\n",
    "            fig.savefig(b, format='png')\n",
    "            display.display(display.Image(data=b.getbuffer(), format='png'))\n"
   ]
  },
  {
   "cell_type": "code",
   "execution_count": null,
   "metadata": {},
   "outputs": [],
   "source": [
    "s = Sweep()\n",
    "s.follow_param(dmm.ig)\n",
    "s.follow_param(dmm.idc)\n",
    "s.sweep(dac.ch1, np.linspace(0, 25, 10), inter_delay=0.5)\n",
    "s.sweep(dac.ch1, np.linspace(25, 0, 10), inter_delay=0.5)\n",
    "s.sweep(dac.ch1, np.concatenate((np.linspace(0, 25, 10), np.linspace(25, 0, 10))), inter_delay=0.1)"
   ]
  },
  {
   "cell_type": "markdown",
   "metadata": {},
   "source": [
    "## 2D sweep"
   ]
  },
  {
   "cell_type": "code",
   "execution_count": null,
   "metadata": {},
   "outputs": [],
   "source": [
    "meas = Measurement()\n",
    "meas.register_parameter(dac.ch1)\n",
    "meas.register_parameter(dac.ch2)\n",
    "meas.register_parameter(dmm.ig, setpoints=(dac.ch1, dac.ch2))\n",
    "\n",
    "with meas.run() as datasaver:\n",
    "    try:\n",
    "        for set_ch1 in np.linspace(0, 25, 10):\n",
    "            for set_ch2 in np.linspace(0, 10, 10):\n",
    "                dac.ch1.set(set_ch1)\n",
    "                dac.ch2.set(set_ch2)\n",
    "                ig = dmm.ig.get()\n",
    "\n",
    "                datasaver.add_result((dac.ch1, set_ch1), (dac.ch2, set_ch2), (dmm.ig, ig))\n",
    "    except KeyboardInterrupt:\n",
    "        pass"
   ]
  },
  {
   "cell_type": "markdown",
   "metadata": {},
   "source": [
    "## Where is the data?\n",
    "\n",
    "See the `get_data_by_id` docstring.\n",
    "\n",
    "TODO: Make this easier to save to a csv or something."
   ]
  },
  {
   "cell_type": "code",
   "execution_count": null,
   "metadata": {},
   "outputs": [],
   "source": [
    "get_data_by_id(datasaver.run_id)"
   ]
  },
  {
   "cell_type": "code",
   "execution_count": null,
   "metadata": {},
   "outputs": [],
   "source": []
  }
 ],
 "metadata": {
  "kernelspec": {
   "display_name": "Python 3",
   "language": "python",
   "name": "python3"
  },
  "language_info": {
   "codemirror_mode": {
    "name": "ipython",
    "version": 3
   },
   "file_extension": ".py",
   "mimetype": "text/x-python",
   "name": "python",
   "nbconvert_exporter": "python",
   "pygments_lexer": "ipython3",
   "version": "3.7.1"
  }
 },
 "nbformat": 4,
 "nbformat_minor": 2
}
